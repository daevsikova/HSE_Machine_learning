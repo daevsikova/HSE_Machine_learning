{
 "cells": [
  {
   "cell_type": "markdown",
   "metadata": {
    "id": "1PjQglGj4q54"
   },
   "source": [
    "# Случайные леса\n",
    "__Суммарное количество баллов: 10__\n",
    "\n",
    "__Решение отправлять на `ml.course.practice@gmail.com`__\n",
    "\n",
    "__Тема письма: `[ML][MS][HW09] <ФИ>`, где вместо `<ФИ>` указаны фамилия и имя__\n",
    "\n",
    "В этом задании вам предстоит реализовать ансамбль деревьев решений, известный как случайный лес, применить его к публичным данным пользователей социальной сети Вконтакте, и сравнить его эффективность с ансамблем, предоставляемым библиотекой CatBoost.\n",
    "\n",
    "В результате мы сможем определить, какие подписки пользователей больше всего влияют на определение возраста и пола человека. "
   ]
  },
  {
   "cell_type": "code",
   "execution_count": 1,
   "metadata": {
    "id": "LH5PiGz04q5-"
   },
   "outputs": [],
   "source": [
    "from sklearn.model_selection import train_test_split\n",
    "import numpy as np\n",
    "import pandas\n",
    "import random\n",
    "import matplotlib.pyplot as plt\n",
    "import matplotlib\n",
    "import copy\n",
    "from catboost import CatBoostClassifier\n",
    "from math import sqrt\n",
    "from typing import Callable, Union, NoReturn, Optional, Dict, Any, List\n",
    "from scipy.stats import mode "
   ]
  },
  {
   "cell_type": "code",
   "execution_count": 2,
   "metadata": {
    "id": "bQUJHTjS4q5-"
   },
   "outputs": [],
   "source": [
    "def gini(x):\n",
    "    _, counts = np.unique(x, return_counts=True)\n",
    "    proba = counts / len(x)\n",
    "    return np.sum(proba * (1 - proba))\n",
    "    \n",
    "def entropy(x):\n",
    "    _, counts = np.unique(x, return_counts=True)\n",
    "    proba = counts / len(x)\n",
    "    return -np.sum(proba * np.log2(proba))\n",
    "\n",
    "def gain(left_y, right_y, criterion):\n",
    "    y = np.concatenate((left_y, right_y))\n",
    "    return criterion(y) - (criterion(left_y) * len(left_y) + criterion(right_y) * len(right_y)) / len(y)"
   ]
  },
  {
   "cell_type": "markdown",
   "metadata": {
    "id": "tfxycK0Q4q5_"
   },
   "source": [
    "### Задание 1 (2 балла)\n",
    "Random Forest состоит из деревьев решений. Каждое такое дерево строится на одной из выборок, полученных при помощи bagging. Элементы, которые не вошли в новую обучающую выборку, образуют out-of-bag выборку. Кроме того, в каждом узле дерева мы случайным образом выбираем набор из `max_features` и ищем признак для предиката разбиения только в этом наборе.\n",
    "\n",
    "Сегодня мы будем работать только с бинарными признаками, поэтому нет необходимости выбирать значение признака для разбиения.\n",
    "\n",
    "#### Методы\n",
    "`predict(X)` - возвращает предсказанные метки для элементов выборки `X`\n",
    "\n",
    "#### Параметры конструктора\n",
    "`X, y` - обучающая выборка и соответствующие ей метки классов. Из нее нужно получить выборку для построения дерева при помощи bagging. Out-of-bag выборку нужно запомнить, она понадобится потом.\n",
    "\n",
    "`criterion=\"gini\"` - задает критерий, который будет использоваться при построении дерева. Возможные значения: `\"gini\"`, `\"entropy\"`.\n",
    "\n",
    "`max_depth=None` - ограничение глубины дерева. Если `None` - глубина не ограничена\n",
    "\n",
    "`min_samples_leaf=1` - минимальное количество элементов в каждом листе дерева.\n",
    "\n",
    "`max_features=\"auto\"` - количество признаков, которые могут использоваться в узле. Если `\"auto\"` - равно `sqrt(X.shape[1])`"
   ]
  },
  {
   "cell_type": "code",
   "execution_count": 24,
   "metadata": {},
   "outputs": [],
   "source": [
    "class DecisionTreeLeaf:\n",
    "    \n",
    "    def __init__(self, y):\n",
    "        self.y = mode(y)[0][0]\n",
    "\n",
    "class DecisionTreeNode:\n",
    "    \n",
    "    def __init__(self, split_dim: int, \n",
    "                 left: Union['DecisionTreeNode', DecisionTreeLeaf], \n",
    "                 right: Union['DecisionTreeNode', DecisionTreeLeaf]):\n",
    "        self.split_dim = split_dim\n",
    "        self.left = left\n",
    "        self.right = right\n",
    "        \n",
    "    def query(self, datapoint):\n",
    "        \n",
    "        if datapoint[self.split_dim] == 1:\n",
    "            if isinstance(self.left, DecisionTreeLeaf):\n",
    "                return self.left.y\n",
    "            return self.left.query(datapoint)\n",
    "        \n",
    "        if isinstance(self.right, DecisionTreeLeaf):\n",
    "            return self.right.y\n",
    "        return self.right.query(datapoint)"
   ]
  },
  {
   "cell_type": "code",
   "execution_count": 30,
   "metadata": {},
   "outputs": [],
   "source": [
    "class DecisionTree:\n",
    "\n",
    "    def __init__(self, \n",
    "                 X, y,\n",
    "                 criterion : str = \"gini\", \n",
    "                 max_depth : Optional[int] = None, \n",
    "                 min_samples_leaf: int = 1,\n",
    "                 max_features: Optional[int] = \"auto\"):\n",
    "        \n",
    "        \n",
    "        self.criterion = entropy if criterion == 'entropy' else gini\n",
    "        self.min_samples_leaf = min_samples_leaf\n",
    "        self.max_depth = max_depth if max_depth is not None else np.inf \n",
    "        self.max_features = round(sqrt(X.shape[1])) if \"auto\" else max_features\n",
    "        n = X.shape[0]\n",
    "        self.train_indices = np.random.choice(np.arange(n), size=n, replace=True)\n",
    "        self.oob_indices = np.setdiff1d(np.arange(n), self.train_indices)\n",
    "        self.root = self._build_tree(X[self.train_indices], y[self.train_indices])\n",
    "        \n",
    "    def _build_tree(self, X, y, depth=0):\n",
    "        n, m = X.shape\n",
    "        \n",
    "        if n <= 2 * self.min_samples_leaf or depth == self.max_depth:\n",
    "            return DecisionTreeLeaf(y)\n",
    "        \n",
    "        feature_indices = np.random.choice(np.arange(m), size=self.max_features, replace=False)\n",
    "        \n",
    "        ig = -1\n",
    "        best_feature = 0\n",
    "        feature_found = False\n",
    "        \n",
    "        for feature in feature_indices:\n",
    "            cond = X[:, feature] == 1\n",
    "            y_left, y_right = y[cond], y[~cond]\n",
    "                \n",
    "            if y_left.shape[0] >= self.min_samples_leaf and y_right.shape[0] >= self.min_samples_leaf:\n",
    "                current_ig = gain(left_y=y_left, right_y=y_right, criterion=self.criterion)\n",
    "                    \n",
    "                if current_ig > ig:\n",
    "                    best_feature = feature\n",
    "                    ig = current_ig\n",
    "                    feature_found = True\n",
    "                        \n",
    "        if not feature_found:\n",
    "            return DecisionTreeLeaf(y)\n",
    "        \n",
    "        cond = X[:, best_feature] == 1\n",
    "        X_left, y_left, X_right, y_right = X[cond], y[cond], X[~cond], y[~cond]\n",
    "        \n",
    "        left_child = self._build_tree(X_left, y_left, depth + 1)\n",
    "        right_child = self._build_tree(X_right, y_right, depth + 1)\n",
    "        root = DecisionTreeNode(split_dim=best_feature, left=left_child, right=right_child)\n",
    "    \n",
    "        return root\n",
    "    \n",
    "    def predict(self, X : np.ndarray) -> list:\n",
    "        return [self.root.query(x) for x in X]"
   ]
  },
  {
   "cell_type": "markdown",
   "metadata": {
    "id": "9oijgwLt4q6A"
   },
   "source": [
    "### Задание 2 (2 балла)\n",
    "Теперь реализуем сам Random Forest. Идея очень простая: строим `n` деревьев, а затем берем модальное предсказание.\n",
    "\n",
    "#### Параметры конструктора\n",
    "`n_estimators` - количество используемых для предсказания деревьев.\n",
    "\n",
    "Остальное - параметры деревьев.\n",
    "\n",
    "#### Методы\n",
    "`fit(X, y)` - строит `n_estimators` деревьев по выборке `X`.\n",
    "\n",
    "`predict(X)` - для каждого элемента выборки `X` возвращает самый частый класс, который предсказывают для него деревья."
   ]
  },
  {
   "cell_type": "code",
   "execution_count": 31,
   "metadata": {
    "id": "APIy88YW4q6A"
   },
   "outputs": [],
   "source": [
    "class RandomForestClassifier:\n",
    "    def __init__(self, criterion=\"gini\", max_depth=None, min_samples_leaf=1, max_features=\"auto\", n_estimators=10):\n",
    "        self.params = {'criterion': criterion, 'max_depth': max_depth, 'min_samples_leaf': min_samples_leaf, 'max_features': max_features}\n",
    "        self.n = n_estimators\n",
    "        self.estimators = []\n",
    "    \n",
    "    def fit(self, X, y):\n",
    "        self.X = X\n",
    "        self.y = y\n",
    "        for _ in range(self.n):\n",
    "            self.estimators.append(DecisionTree(X, y, **self.params))\n",
    "    \n",
    "    def predict(self, X):\n",
    "        preds = [estimator.predict(X) for estimator in self.estimators]\n",
    "        return mode(preds, axis=0)[0][0]"
   ]
  },
  {
   "cell_type": "markdown",
   "metadata": {
    "id": "i80pffMn4q6A"
   },
   "source": [
    "### Задание 3 (2 балла)\n",
    "Часто хочется понимать, насколько большую роль играет тот или иной признак для предсказания класса объекта. Есть различные способы посчитать его важность. Один из простых способов сделать это для Random Forest - посчитать out-of-bag ошибку предсказания `err_oob`, а затем перемешать значения признака `j` и посчитать ее (`err_oob_j`) еще раз. Оценкой важности признака `j` для одного дерева будет разность `err_oob_j - err_oob`, важность для всего леса считается как среднее значение важности по деревьям.\n",
    "\n",
    "Реализуйте функцию `feature_importance`, которая принимает на вход Random Forest и возвращает массив, в котором содержится важность для каждого признака."
   ]
  },
  {
   "cell_type": "code",
   "execution_count": 32,
   "metadata": {
    "id": "rEmVG1Fl4q6B"
   },
   "outputs": [],
   "source": [
    "def feature_importance(rfc):\n",
    "    X, y = rfc.X, rfc.y\n",
    "    n, m = X.shape\n",
    "    importances = np.zeros((rfc.n, m))\n",
    "    \n",
    "    for i in range(rfc.n):\n",
    "        \n",
    "        idx = rfc.estimators[i].oob_indices\n",
    "        X_oob, y_oob = X[idx], y[idx]\n",
    "        err_oob = 1 - np.mean(rfc.estimators[i].predict(X_oob) == y_oob)\n",
    "        \n",
    "        for col in range(m):\n",
    "            X_oob_shuf = X_oob.copy()\n",
    "            X_oob_shuf[:, col] = np.random.permutation(X_oob_shuf[:, col])\n",
    "            err_oob_j = 1 - np.mean(rfc.estimators[i].predict(X_oob_shuf) == y_oob)\n",
    "            importances[i, col] = err_oob_j - err_oob\n",
    "\n",
    "    return np.mean(importances, axis=0)\n",
    "\n",
    "def most_important_features(importance, names, k=20):\n",
    "    # Выводит названия k самых важных признаков\n",
    "    idicies = np.argsort(importance)[::-1][:k]\n",
    "    return np.array(names)[idicies]"
   ]
  },
  {
   "cell_type": "markdown",
   "metadata": {
    "id": "JooN_YKm4q6B"
   },
   "source": [
    "Наконец, пришло время протестировать наше дерево на простом синтетическом наборе данных. В результате точность должна быть примерно равна `1.0`, наибольшее значение важности должно быть у признака с индексом `4`, признаки с индексами `2` и `3`  должны быть одинаково важны, а остальные признаки - не важны совсем."
   ]
  },
  {
   "cell_type": "code",
   "execution_count": 48,
   "metadata": {
    "id": "8gqYMp994q6B"
   },
   "outputs": [
    {
     "name": "stdout",
     "output_type": "stream",
     "text": [
      "Accuracy: 1.0\n",
      "Importance: [7.76858824e-04 4.47371646e-05 1.80787493e-01 1.65989432e-01\n",
      " 3.39516761e-01 1.76546689e-03]\n",
      "Wall time: 1.37 s\n"
     ]
    }
   ],
   "source": [
    "%%time\n",
    "\n",
    "def synthetic_dataset(size):\n",
    "    X = [(np.random.randint(0, 2), np.random.randint(0, 2), i % 6 == 3, \n",
    "          i % 6 == 0, i % 3 == 2, np.random.randint(0, 2)) for i in range(size)]\n",
    "    y = [i % 3 for i in range(size)]\n",
    "    return np.array(X), np.array(y)\n",
    "\n",
    "X, y = synthetic_dataset(1000)\n",
    "rfc = RandomForestClassifier(n_estimators=100)\n",
    "rfc.fit(X, y)\n",
    "print(\"Accuracy:\", np.mean(rfc.predict(X) == y))\n",
    "print(\"Importance:\", feature_importance(rfc))"
   ]
  },
  {
   "cell_type": "markdown",
   "metadata": {
    "id": "vRtGOs164q6C"
   },
   "source": [
    "### Задание 4 (1 балл)\n",
    "Теперь поработаем с реальными данными.\n",
    "\n",
    "Выборка состоит из публичных анонимизированных данных пользователей социальной сети Вконтакте. Первые два столбца отражают возрастную группу (`zoomer`, `doomer` и `boomer`) и пол (`female`, `male`). Все остальные столбцы являются бинарными признаками, каждый из них определяет, подписан ли пользователь на определенную группу/публичную страницу или нет.\\\n",
    "\\\n",
    "Необходимо обучить два классификатора, один из которых определяет возрастную группу, а второй - пол.\\\n",
    "\\\n",
    "Эксперименты с множеством используемых признаков и подбор гиперпараметров приветствуются. Лес должен строиться за какое-то разумное время."
   ]
  },
  {
   "cell_type": "code",
   "execution_count": 35,
   "metadata": {
    "id": "HruobK-q4q6C"
   },
   "outputs": [],
   "source": [
    "def read_dataset(path):\n",
    "    dataframe = pandas.read_csv(path, header=0)\n",
    "    dataset = dataframe.values.tolist()\n",
    "    random.shuffle(dataset)\n",
    "    y_age = [row[0] for row in dataset]\n",
    "    y_sex = [row[1] for row in dataset]\n",
    "    X = [row[2:] for row in dataset]\n",
    "    \n",
    "    return np.array(X), np.array(y_age), np.array(y_sex), list(dataframe.columns)[2:]"
   ]
  },
  {
   "cell_type": "code",
   "execution_count": 36,
   "metadata": {
    "id": "K0QXWr3b4q6C"
   },
   "outputs": [],
   "source": [
    "X, y_age, y_sex, features = read_dataset(\"vk.csv\")\n",
    "X_train, X_test, y_age_train, y_age_test, y_sex_train, y_sex_test = train_test_split(X, y_age, y_sex, train_size=0.9)"
   ]
  },
  {
   "cell_type": "markdown",
   "metadata": {
    "id": "I0y8J97m4q6C"
   },
   "source": [
    "#### Возраст"
   ]
  },
  {
   "cell_type": "code",
   "execution_count": 37,
   "metadata": {
    "id": "MLJykJZH4q6C"
   },
   "outputs": [
    {
     "name": "stdout",
     "output_type": "stream",
     "text": [
      "Accuracy: 0.7225725094577553\n",
      "Most important features:\n",
      "1. ovsyanochan\n",
      "2. 4ch\n",
      "3. styd.pozor\n",
      "4. rhymes\n",
      "5. mudakoff\n",
      "6. rapnewrap\n",
      "7. dayvinchik\n",
      "8. iwantyou\n",
      "9. tumblr_vacuum\n",
      "10. pixel_stickers\n",
      "11. xfilm\n",
      "12. reflexia_our_feelings\n",
      "13. pozor\n",
      "14. ultrapir\n",
      "15. pravdashowtop\n",
      "16. ohhluul\n",
      "17. i_d_t\n",
      "18. nenormalnoo\n",
      "19. fuck_humor\n",
      "20. bot_maxim\n",
      "Wall time: 1min 31s\n"
     ]
    }
   ],
   "source": [
    "%%time\n",
    "\n",
    "rfc = RandomForestClassifier(n_estimators=10)\n",
    "\n",
    "rfc.fit(X_train, y_age_train)\n",
    "print(\"Accuracy:\", np.mean(rfc.predict(X_test) == y_age_test))\n",
    "print(\"Most important features:\")\n",
    "for i, name in enumerate(most_important_features(feature_importance(rfc), features, 20)):\n",
    "    print(str(i+1) + \".\", name)"
   ]
  },
  {
   "cell_type": "markdown",
   "metadata": {
    "id": "cgNpaAKH4q6D"
   },
   "source": [
    "#### Пол"
   ]
  },
  {
   "cell_type": "code",
   "execution_count": 39,
   "metadata": {
    "id": "X-zne5-R4q6D"
   },
   "outputs": [
    {
     "name": "stdout",
     "output_type": "stream",
     "text": [
      "Accuracy: 0.8549810844892812\n",
      "Most important features:\n",
      "1. 40kg\n",
      "2. mudakoff\n",
      "3. girlmeme\n",
      "4. 9o_6o_9o\n",
      "5. zerofat\n",
      "6. modnailru\n",
      "7. cook_good\n",
      "8. be.beauty\n",
      "9. reflexia_our_feelings\n",
      "10. 4ch\n",
      "11. femalemem\n",
      "12. psy.people\n",
      "13. beauty\n",
      "14. thesmolny\n",
      "15. i_d_t\n",
      "16. woman.blog\n",
      "17. rapnewrap\n",
      "18. be.women\n",
      "19. sh.cook\n",
      "20. combovine\n",
      "Wall time: 1min 31s\n"
     ]
    }
   ],
   "source": [
    "%%time\n",
    "\n",
    "rfc = RandomForestClassifier(n_estimators=10)\n",
    "rfc.fit(X_train, y_sex_train)\n",
    "print(\"Accuracy:\", np.mean(rfc.predict(X_test) == y_sex_test))\n",
    "print(\"Most important features:\")\n",
    "for i, name in enumerate(most_important_features(feature_importance(rfc), features, 20)):\n",
    "    print(str(i+1) + \".\", name)"
   ]
  },
  {
   "cell_type": "markdown",
   "metadata": {
    "id": "pxeTQylQ4q6D"
   },
   "source": [
    "### CatBoost\n",
    "В качестве аьтернативы попробуем CatBoost. \n",
    "\n",
    "Устаниовить его можно просто с помощью `pip install catboost`. Туториалы можно найти, например, [здесь](https://catboost.ai/docs/concepts/python-usages-examples.html#multiclassification) и [здесь](https://github.com/catboost/tutorials/blob/master/python_tutorial.ipynb). Главное - не забудьте использовать `loss_function='MultiClass'`.\\\n",
    "\\\n",
    "Сначала протестируйте CatBoost на синтетических данных. Выведите точность и важность признаков."
   ]
  },
  {
   "cell_type": "code",
   "execution_count": 41,
   "metadata": {
    "id": "DOqVkEnd4q6D"
   },
   "outputs": [
    {
     "name": "stdout",
     "output_type": "stream",
     "text": [
      "Accuracy: 1.0\n",
      "Importance: [2.91197381e-03 5.83727700e-03 2.78666677e+01 2.78606166e+01\n",
      " 4.42601799e+01 3.78655607e-03]\n"
     ]
    }
   ],
   "source": [
    "X, y = synthetic_dataset(1000)\n",
    "cb_clf = CatBoostClassifier(loss_function=\"MultiClass\", verbose=False, depth=6)\n",
    "cb_clf.fit(X, y)\n",
    "y_pred = cb_clf.predict(X).flatten()\n",
    "\n",
    "print(\"Accuracy:\", np.mean(y_pred == y))\n",
    "print(\"Importance:\", cb_clf.feature_importances_)"
   ]
  },
  {
   "cell_type": "markdown",
   "metadata": {
    "id": "tcLRsSNG4q6E"
   },
   "source": [
    "### Задание 5 (3 балла)\n",
    "Попробуем применить один из используемых на практике алгоритмов. В этом нам поможет CatBoost. Также, как и реализованный ними RandomForest, применим его для определения пола и возраста пользователей сети Вконтакте, выведите названия наиболее важных признаков так же, как в задании 3.\\\n",
    "\\\n",
    "Эксперименты с множеством используемых признаков и подбор гиперпараметров приветствуются."
   ]
  },
  {
   "cell_type": "code",
   "execution_count": 51,
   "metadata": {
    "id": "hJGrQcO-4q6E"
   },
   "outputs": [],
   "source": [
    "X, y_age, y_sex, features = read_dataset(\"vk.csv\")\n",
    "X_train, X_test, y_age_train, y_age_test, y_sex_train, y_sex_test = train_test_split(X, y_age, y_sex, train_size=0.9)\n",
    "X_train, X_eval, y_age_train, y_age_eval, y_sex_train, y_sex_eval = train_test_split(X_train, y_age_train, y_sex_train, train_size=0.8)"
   ]
  },
  {
   "cell_type": "markdown",
   "metadata": {
    "id": "XA5f_8eC4q6E"
   },
   "source": [
    "#### Возраст"
   ]
  },
  {
   "cell_type": "code",
   "execution_count": 55,
   "metadata": {
    "id": "qSeUpxPj4q6E"
   },
   "outputs": [
    {
     "name": "stdout",
     "output_type": "stream",
     "text": [
      "Accuracy: 0.7440100882723834\n",
      "Most important features:\n",
      "1. ovsyanochan\n",
      "2. styd.pozor\n",
      "3. 4ch\n",
      "4. rhymes\n",
      "5. mudakoff\n",
      "6. dayvinchik\n",
      "7. leprum\n",
      "8. xfilm\n",
      "9. thesmolny\n",
      "10. fuck_humor\n"
     ]
    }
   ],
   "source": [
    "cb_clf = CatBoostClassifier(\n",
    "    loss_function=\"MultiClass\",\n",
    "    verbose=False,\n",
    "    learning_rate=1e-2,\n",
    "    max_depth=8,\n",
    "    min_data_in_leaf=20,\n",
    ")\n",
    "cb_clf.fit(X_train, y_age_train)\n",
    "y_pred = cb_clf.predict(X_test).flatten()\n",
    "\n",
    "print(\"Accuracy:\", np.mean(y_pred == y_age_test))\n",
    "print(\"Most important features:\")\n",
    "for i, name in enumerate(most_important_features(cb_clf.feature_importances_, features, 10)):\n",
    "    print(str(i+1) + \".\", name)"
   ]
  },
  {
   "cell_type": "markdown",
   "metadata": {
    "id": "KfYSptm74q6E"
   },
   "source": [
    "#### Пол"
   ]
  },
  {
   "cell_type": "code",
   "execution_count": 56,
   "metadata": {
    "id": "4rKa-f6F4q6E"
   },
   "outputs": [
    {
     "name": "stdout",
     "output_type": "stream",
     "text": [
      "Accuracy: 0.8713745271122321\n",
      "Most important features:\n",
      "1. 40kg\n",
      "2. girlmeme\n",
      "3. modnailru\n",
      "4. mudakoff\n",
      "5. femalemem\n",
      "6. academyofman\n",
      "7. thesmolny\n",
      "8. i_d_t\n",
      "9. 9o_6o_9o\n",
      "10. igm\n"
     ]
    }
   ],
   "source": [
    "cb_clf = CatBoostClassifier(\n",
    "    loss_function=\"MultiClass\",\n",
    "    verbose=False,\n",
    "    learning_rate=1e-2,\n",
    "    max_depth=8,\n",
    "    min_data_in_leaf=20,\n",
    ")\n",
    "cb_clf.fit(X_train, y_sex_train)\n",
    "y_pred = cb_clf.predict(X_test).flatten()\n",
    "\n",
    "\n",
    "print(\"Accuracy:\", np.mean(y_pred == y_sex_test))\n",
    "print(\"Most important features:\")\n",
    "for i, name in enumerate(most_important_features(cb_clf.feature_importances_, features, 10)):\n",
    "    print(str(i+1) + \".\", name)"
   ]
  }
 ],
 "metadata": {
  "colab": {
   "collapsed_sections": [],
   "name": "hw09_task.ipynb",
   "provenance": []
  },
  "kernelspec": {
   "display_name": "Python 3",
   "language": "python",
   "name": "python3"
  },
  "language_info": {
   "codemirror_mode": {
    "name": "ipython",
    "version": 3
   },
   "file_extension": ".py",
   "mimetype": "text/x-python",
   "name": "python",
   "nbconvert_exporter": "python",
   "pygments_lexer": "ipython3",
   "version": "3.7.7"
  }
 },
 "nbformat": 4,
 "nbformat_minor": 1
}
