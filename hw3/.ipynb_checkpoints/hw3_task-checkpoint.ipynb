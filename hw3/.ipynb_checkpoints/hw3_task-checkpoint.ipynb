{
 "cells": [
  {
   "cell_type": "markdown",
   "metadata": {
    "id": "afIgLBWb689l"
   },
   "source": [
    "# Линейная регрессия\n",
    "__Суммарное количество баллов: 10__\n",
    "\n",
    "__Решение отправлять на `ml.course.practice@gmail.com`__\n",
    "\n",
    "__Тема письма: `[ML][MS][HW03] <ФИ>`, где вместо `<ФИ>` указаны фамилия и имя__"
   ]
  },
  {
   "cell_type": "code",
   "execution_count": 2,
   "metadata": {
    "id": "bYKrc1lO689l"
   },
   "outputs": [],
   "source": [
    "from sklearn.datasets import make_blobs, make_moons\n",
    "from sklearn.model_selection import train_test_split\n",
    "import numpy as np\n",
    "import random\n",
    "import matplotlib.pyplot as plt\n",
    "import matplotlib\n",
    "import copy"
   ]
  },
  {
   "cell_type": "code",
   "execution_count": 3,
   "metadata": {
    "id": "VOGx85I5689m"
   },
   "outputs": [],
   "source": [
    "def read_data(path=\"boston.csv\"):\n",
    "    dataframe = np.genfromtxt(path, delimiter=\",\", skip_header=15)\n",
    "    np.random.seed(42)\n",
    "    np.random.shuffle(dataframe)\n",
    "    X = dataframe[:, :-1]\n",
    "    y = dataframe[:, -1]\n",
    "    return X, y"
   ]
  },
  {
   "cell_type": "code",
   "execution_count": 4,
   "metadata": {
    "id": "tte75xx7689m"
   },
   "outputs": [],
   "source": [
    "def generate_synthetic(size:int, dim=6, noise=0.1):\n",
    "    X = np.random.randn(size, dim)\n",
    "    w = np.random.randn(dim + 1)\n",
    "    noise = noise * np.random.randn(size)\n",
    "    y = X.dot(w[1:]) + w[0] + noise\n",
    "    return X, y"
   ]
  },
  {
   "cell_type": "markdown",
   "metadata": {
    "id": "Aab8Oyui689m"
   },
   "source": [
    "### Задание 1 (1 балл)\n",
    "Для начала нужно понять, какую метрику для ошибки будем использовать. В нашем случае нам подойдет стандартная метрика MSE. Также чтобы оценить качество модели нам понадобится метрика $R^2$. Реализуйте обе эти метрики."
   ]
  },
  {
   "cell_type": "code",
   "execution_count": 5,
   "metadata": {
    "id": "RDUbABpp689m"
   },
   "outputs": [],
   "source": [
    "def mse(y_true:np.ndarray, y_predicted:np.ndarray):\n",
    "    return np.mean((y_true-y_predicted) ** 2)\n",
    "\n",
    "def r2(y_true:np.ndarray, y_predicted:np.ndarray):\n",
    "    u = np.sum((y_predicted-y_true) ** 2)\n",
    "    y_mean = np.mean(y_true)\n",
    "    v = np.sum((y_mean - y_true) ** 2)\n",
    "    return 1 - u / v"
   ]
  },
  {
   "cell_type": "markdown",
   "metadata": {
    "id": "Qqlg3KeW689m"
   },
   "source": [
    "### Задание 2 (3 балла)\n",
    "Теперь реализуем линейную регрессию при помощи явного решения задачи минимизации. \n",
    "\n",
    "#### Методы\n",
    "`fit(X, y)` - решает задачу минимизации $\\arg\\min_{w, b}\\sum ((w\\cdot x + b) - y)^2$. \n",
    "\n",
    "`predict(X)` - строит предсказание `y` для объектов из `X`."
   ]
  },
  {
   "cell_type": "code",
   "execution_count": 6,
   "metadata": {
    "id": "zTGLaghB689m"
   },
   "outputs": [],
   "source": [
    "class NormalLR:\n",
    "    def __init__(self):\n",
    "        self.w = np.array([])\n",
    "    \n",
    "    def fit(self, X:np.ndarray, y:np.ndarray):\n",
    "        X = np.hstack((np.ones((X.shape[0], 1)), X))\n",
    "        self.w = np.linalg.inv(X.T @ X) @ X.T @ y\n",
    "    \n",
    "    def predict(self, X:np.ndarray) -> np.ndarray:\n",
    "        X = np.hstack((np.ones((X.shape[0], 1)), X))\n",
    "        return X @ self.w"
   ]
  },
  {
   "cell_type": "code",
   "execution_count": 7,
   "metadata": {
    "id": "hgS8c_sM689m"
   },
   "outputs": [],
   "source": [
    "X, y = generate_synthetic(1024)\n",
    "X_train, X_test, y_train, y_test = train_test_split(X, y, train_size=0.8)"
   ]
  },
  {
   "cell_type": "code",
   "execution_count": 8,
   "metadata": {
    "id": "9DjhMRug689m"
   },
   "outputs": [
    {
     "name": "stdout",
     "output_type": "stream",
     "text": [
      "MSE: 0.010789990406950495, R2: 0.9978895595606645\n"
     ]
    }
   ],
   "source": [
    "regr = NormalLR()\n",
    "regr.fit(X_train, y_train)\n",
    "y_pred = regr.predict(X_test)\n",
    "print(f\"MSE: {mse(y_test, y_pred)}, R2: {r2(y_test, y_pred)}\")"
   ]
  },
  {
   "cell_type": "markdown",
   "metadata": {
    "id": "rPaByJZN689m"
   },
   "source": [
    "### Задание 3 (2 балла)\n",
    "Теперь реализуем линейную регрессию с использованием градиентного спуска с larning rate `alpha` в течении `iterations` итераций. В задании необходимо использовать регуляризацию Лассо с коэффициентом `l`.\n",
    "\n",
    "#### Методы\n",
    "`fit(X, y)` - приближает решение задачи минимизации $\\arg\\min_{w, b}\\sum ((w\\cdot x + b) - y)^2$ при помощи градиентного спуска. \n",
    "\n",
    "\n",
    "`predict(X)` - строит предсказание `y` для объектов из `X`."
   ]
  },
  {
   "cell_type": "code",
   "execution_count": 9,
   "metadata": {
    "id": "oBmZJrhL689m"
   },
   "outputs": [],
   "source": [
    "class GradientLR:\n",
    "    def __init__(self, alpha:float, iterations=10000, l=0.):\n",
    "        self.alpha = alpha\n",
    "        self.max_iter = iterations\n",
    "        self.l = l\n",
    "        self.w = np.array([])\n",
    "        \n",
    "def _grad(self):\n",
    "    n = self.X.shape[0]\n",
    "    grad_mse = 2 * self.X.T @ (self.X @ self.w - self.y) / n  \n",
    "    grad_reg = self.l * np.sign(self.w) \n",
    "    return grad_mse + grad_reg\n",
    "    \n",
    "    def fit(self, X:np.ndarray, y:np.ndarray):\n",
    "        \n",
    "        self.X = np.hstack((np.ones((X.shape[0], 1)), X))\n",
    "        self.y = y\n",
    "        \n",
    "        self.w = np.ones(self.X.shape[1])\n",
    "        tol = 1e-16\n",
    "        grad_0 = self._grad()\n",
    "        grad_0 = grad_0.T @ grad_0  # squared grad norm\n",
    "        \n",
    "        for iter in range(self.max_iter):\n",
    "            d = -self._grad()\n",
    "            norm_d = d.T @ d\n",
    "            \n",
    "            if norm_d / grad_0 < tol:  # stopping criteria\n",
    "                break    \n",
    "                \n",
    "            self.w = self.w + self.alpha * d  # gradient descent step\n",
    "        \n",
    "    def predict(self, X:np.ndarray):\n",
    "        X = np.hstack((np.ones((X.shape[0], 1)), X))\n",
    "        return X @ self.w"
   ]
  },
  {
   "cell_type": "code",
   "execution_count": 10,
   "metadata": {
    "id": "OPG6AR_b689m"
   },
   "outputs": [],
   "source": [
    "def build_plot(X_train, y_train, X_test, y_test, step=0.00002, l_max=0.002):\n",
    "    xs = np.arange(0.0, l_max, step)\n",
    "    errors = []\n",
    "    for x in xs:\n",
    "        regr = GradientLR(0.1, iterations=10000, l=x)\n",
    "        regr.fit(X_train, y_train)\n",
    "        errors.append(mse(y_test, regr.predict(X_test)))\n",
    "    plt.figure(figsize=(9, 4))\n",
    "    plt.xlim(xs[0], xs[-1])\n",
    "    plt.grid()\n",
    "    plt.plot(xs, errors)\n",
    "    plt.show()"
   ]
  },
  {
   "cell_type": "code",
   "execution_count": 11,
   "metadata": {
    "id": "6D5_9sSc689m"
   },
   "outputs": [],
   "source": [
    "X, y = generate_synthetic(1024)\n",
    "X, X_val, y, y_val = train_test_split(X, y, train_size=0.9, shuffle=True)\n",
    "X_train, X_test, y_train, y_test = train_test_split(X, y, train_size=0.8, shuffle=True)"
   ]
  },
  {
   "cell_type": "code",
   "execution_count": 12,
   "metadata": {
    "id": "OzRIkE7P689m"
   },
   "outputs": [
    {
     "data": {
      "image/png": "[encoded data removed]",
      "text/plain": [
       "<Figure size 648x288 with 1 Axes>"
      ]
     },
     "metadata": {
      "needs_background": "light"
     },
     "output_type": "display_data"
    }
   ],
   "source": [
    "build_plot(X_train, y_train, X_val, y_val, step=0.0002, l_max=0.0075)"
   ]
  },
  {
   "cell_type": "code",
   "execution_count": 14,
   "metadata": {
    "id": "e3EYauPK689m"
   },
   "outputs": [
    {
     "name": "stdout",
     "output_type": "stream",
     "text": [
      "MSE: 0.00990643939153385, R2: 0.9981563350161915\n"
     ]
    }
   ],
   "source": [
    "regr = GradientLR(0.1, iterations=10000, l=0.005)\n",
    "regr.fit(X_train, y_train)\n",
    "y_pred = regr.predict(X_test)\n",
    "print(f\"MSE: {mse(y_test, y_pred)}, R2: {r2(y_test, y_pred)}\")"
   ]
  },
  {
   "cell_type": "code",
   "execution_count": 15,
   "metadata": {},
   "outputs": [
    {
     "data": {
      "text/plain": [
       "array([ 0.81455579,  0.10028088, -1.35927915,  0.33679742, -1.24831522,\n",
       "       -0.00357213, -1.08618804])"
      ]
     },
     "execution_count": 15,
     "metadata": {},
     "output_type": "execute_result"
    }
   ],
   "source": [
    "regr.w"
   ]
  },
  {
   "cell_type": "markdown",
   "metadata": {
    "id": "S_WtOSFG689m"
   },
   "source": [
    "### Задание 4 (2 балла)\n",
    "Протесируйте оба метода на данных `boston.csv`, для градиентного спуска постройте график зависимости ошибки от коэффициента регуляризации. "
   ]
  },
  {
   "cell_type": "code",
   "execution_count": 16,
   "metadata": {
    "id": "_einEvle689m"
   },
   "outputs": [],
   "source": [
    "X, y = read_data()\n",
    "X, X_val, y, y_val = train_test_split(X, y, train_size=0.9, shuffle=True)\n",
    "X_train, X_test, y_train, y_test = train_test_split(X, y, train_size=0.8, shuffle=True)"
   ]
  },
  {
   "cell_type": "code",
   "execution_count": 17,
   "metadata": {
    "id": "_einEvle689m"
   },
   "outputs": [],
   "source": [
    "# minmax scaling\n",
    "min_tr = np.min(X_train, axis=0)\n",
    "max_tr = np.max(X_train, axis=0)\n",
    "min_y = np.min(y_train)\n",
    "max_y = np.max(y_train)\n",
    "delta_minmax_y = max_y - min_y\n",
    "delta_minmax = max_tr - min_tr"
   ]
  },
  {
   "cell_type": "code",
   "execution_count": 18,
   "metadata": {
    "id": "_einEvle689m"
   },
   "outputs": [],
   "source": [
    "y_train = (y_train - min_y) / delta_minmax_y\n",
    "y_val = (y_val - min_y) / delta_minmax_y\n",
    "X_train = (X_train - min_tr) / delta_minmax\n",
    "X_test = (X_test - min_tr) / delta_minmax\n",
    "X_val = (X_val - min_tr) / delta_minmax"
   ]
  },
  {
   "cell_type": "code",
   "execution_count": 19,
   "metadata": {
    "id": "jBswiVjC689m",
    "scrolled": true
   },
   "outputs": [
    {
     "name": "stdout",
     "output_type": "stream",
     "text": [
      "MSE: 20491219.288693976, R2: 0.6461335821761052\n"
     ]
    }
   ],
   "source": [
    "regr = NormalLR()\n",
    "regr.fit(X_train, y_train)\n",
    "# вернули игрик в нормальный масштаб\n",
    "y_pred = regr.predict(X_test) * delta_minmax_y + min_y\n",
    "print(f\"MSE: {mse(y_pred, y_test)}, R2: {r2(y_test, y_pred)}\")"
   ]
  },
  {
   "cell_type": "code",
   "execution_count": 25,
   "metadata": {
    "id": "dLUWno_N689m"
   },
   "outputs": [
    {
     "data": {
      "image/png": "[encoded data removed]",
      "text/plain": [
       "<Figure size 648x288 with 1 Axes>"
      ]
     },
     "metadata": {
      "needs_background": "light"
     },
     "output_type": "display_data"
    }
   ],
   "source": [
    "# здесь игрики и иксы отскейлены, поэтому mse в этом же масштабе\n",
    "build_plot(X_train, y_train, X_val, y_val, step=0.0001, l_max=0.0015)"
   ]
  },
  {
   "cell_type": "code",
   "execution_count": 32,
   "metadata": {
    "id": "pqHBX4Gn689m"
   },
   "outputs": [
    {
     "name": "stdout",
     "output_type": "stream",
     "text": [
      "MSE: 20885479.513750743, R2: 0.639325034008927\n"
     ]
    }
   ],
   "source": [
    "regr = GradientLR(0.1, iterations=10000, l=0.0007)\n",
    "regr.fit(X_train, y_train)\n",
    "y_pred = regr.predict(X_test) * delta_minmax_y + min_y\n",
    "print(f\"MSE: {mse(y_test, y_pred)}, R2: {r2(y_test, y_pred)}\")"
   ]
  },
  {
   "cell_type": "markdown",
   "metadata": {
    "id": "hYrkoSNw689m"
   },
   "source": [
    "### Задание 5 (2 балла)\n",
    "Проинтерпритируйте полученные результаты. Опишите влияние каждого признака на результат предсказания."
   ]
  },
  {
   "cell_type": "markdown",
   "metadata": {},
   "source": [
    "0. w_o  --    bias\n",
    "1. crim  --   per capita crime rate by town\n",
    "2. zn    --   proportion of residential land zoned for lots over 25,000 sq.ft.\n",
    "3. indus  --  proportion of non-retail business acres per town\n",
    "4. chas  --   Charles River dummy variable (= 1 if tract bounds river; 0 otherwise)\n",
    "5. nox   --   nitric oxides concentration (parts per 10 million)\n",
    "6. rm    --   average number of rooms per dwelling\n",
    "7. age   --   proportion of owner-occupied units built prior to 1940\n",
    "8. dis   --   weighted distances to five Boston employment centres\n",
    "9. rad   --   index of accessibility to radial highways\n",
    "10. tax   --   full-value property-tax rate per 10,000 dollars\n",
    "11. ptratio -- pupil-teacher ratio by town\n",
    "12. b    --    $1000(Bk - 0.63)^2$ where Bk is the proportion of blacks by town\n",
    "13. lstat  --  % lower status of the population\n",
    "\n",
    "y = medv  --   median value of owner-occupied homes in $'s"
   ]
  },
  {
   "cell_type": "code",
   "execution_count": 33,
   "metadata": {
    "id": "J_1RhVl8689m"
   },
   "outputs": [
    {
     "name": "stdout",
     "output_type": "stream",
     "text": [
      "w_o      coef =  0.45\n",
      "crim     coef = -0.09\n",
      "zn       coef =  0.09\n",
      "indus    coef =   0.0\n",
      "chas     coef =  0.04\n",
      "nox      coef = -0.14\n",
      "rm       coef =  0.47\n",
      "age      coef =  -0.0\n",
      "dis      coef = -0.27\n",
      "rad      coef =  0.07\n",
      "tax      coef = -0.08\n",
      "ptratio  coef =  -0.2\n",
      "b        coef =  0.07\n",
      "lstat    coef =  -0.4\n"
     ]
    }
   ],
   "source": [
    "dicriptions = ['w_o','crim','zn','indus','chas','nox','rm','age','dis','rad','tax','ptratio','b','lstat'] \n",
    "w = np.round(regr.w, decimals=2)\n",
    "for i, weight in enumerate(w):\n",
    "    print(f'{dicriptions[i]: <7}  coef = {weight:>5}')"
   ]
  },
  {
   "cell_type": "markdown",
   "metadata": {},
   "source": [
    "- Лассо-регуляризация занулила признаки `indus` и `age`, т.е. они оказались наименее информативны для модели\n",
    "- Остальные признаки можно разделить на группы с положительным и с отрицательным влиянием на `y` - медианную стоимость домов \n",
    "\n",
    "- Чем выше значение данных признаков, тем __выше__ стоимость жилья:<br>\n",
    "    - `rm` -  среднее количество комнат в доме<br>\n",
    "    - `zn` - доля земли<br>\n",
    "    - `rad` - индекс доступности шоссе<br>\n",
    "    - `b` - значение формулы <br>\n",
    "    - `chas` - наличие реки рядом<br>\n",
    "\n",
    "\n",
    "- Чем выше значение данных признаков, тем __ниже__ стоимость жилья:<br>\n",
    "    - `lstat` -  доля населения низкого статуса <br>\n",
    "    - `dis` - взвешенное расстояние до деловых центров Бостона<br>\n",
    "    - `ptratio` - отношение количества учеников к количеству учителей<br>\n",
    "    - `nox` - загрязнение воздуха<br>\n",
    "    - `crim` - криминогенность<br>\n",
    "    - `tax` - ставка налога на имущество<br>\n",
    "\n",
    "Признаки в данных списках отсортированы и по убыванию 'силы' влияния на `y`"
   ]
  }
 ],
 "metadata": {
  "colab": {
   "collapsed_sections": [],
   "name": "hw3_task.ipynb",
   "provenance": []
  },
  "kernelspec": {
   "display_name": "Python 3",
   "language": "python",
   "name": "python3"
  },
  "language_info": {
   "codemirror_mode": {
    "name": "ipython",
    "version": 3
   },
   "file_extension": ".py",
   "mimetype": "text/x-python",
   "name": "python",
   "nbconvert_exporter": "python",
   "pygments_lexer": "ipython3",
   "version": "3.7.7"
  }
 },
 "nbformat": 4,
 "nbformat_minor": 1
}
